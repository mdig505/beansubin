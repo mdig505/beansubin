{
  "nbformat": 4,
  "nbformat_minor": 0,
  "metadata": {
    "colab": {
      "name": "NAVER AD API_ver.ipynb",
      "provenance": [],
      "collapsed_sections": []
    },
    "kernelspec": {
      "display_name": "Python 3",
      "name": "python3"
    }
  },
  "cells": [
    {
      "cell_type": "code",
      "metadata": {
        "colab": {
          "base_uri": "https://localhost:8080/"
        },
        "id": "NsIU6DNprLc0",
        "outputId": "a4d73020-6a8e-449d-9e97-0af931e3f6c9"
      },
      "source": [
        "\n",
        "#드라이브에 연결\n",
        "from google.colab import drive\n",
        "\n",
        "\n",
        "drive.mount('/content/gdrive')\n",
        "\n"
      ],
      "execution_count": null,
      "outputs": [
        {
          "output_type": "stream",
          "text": [
            "Mounted at /content/gdrive\n"
          ],
          "name": "stdout"
        }
      ]
    },
    {
      "cell_type": "code",
      "metadata": {
        "id": "aT9wy8Q3Tbnc"
      },
      "source": [
        "# 구글 클라우드 sdk 에 연결\n",
        "from google.colab import auth\n",
        "auth.authenticate_user()\n",
        "\n"
      ],
      "execution_count": null,
      "outputs": []
    },
    {
      "cell_type": "markdown",
      "metadata": {
        "id": "D-J1Ai05U4Y4"
      },
      "source": [
        "#트랜드리포트\n"
      ]
    },
    {
      "cell_type": "code",
      "metadata": {
        "id": "W5SVcM3GxUqY"
      },
      "source": [
        "\n",
        "\n",
        "import os\n",
        "import sys\n",
        "import urllib.request\n",
        "from datetime import date, timedelta\n",
        "import pandas as pd\n",
        "import json \n",
        "from functools import reduce\n",
        "\n",
        "from google.colab import auth\n",
        "auth.authenticate_user()\n",
        "\n",
        "import gspread\n",
        "from oauth2client.client import GoogleCredentials\n",
        "\n",
        "gc = gspread.authorize(GoogleCredentials.get_application_default())\n",
        "\n",
        "from gspread_dataframe import set_with_dataframe\n",
        "\n",
        "\n",
        "yesterday = date.today() - timedelta(days=1)\n",
        "yesterday = yesterday.strftime('%Y-%m-%d')\n",
        "\n",
        "\n",
        "client_id = \"hymulWp6Bwc_9qYEmL2N\"\n",
        "client_secret = \"Y0zkxixeNi\" #네이버 앱 키 연결\n",
        "url = \"https://openapi.naver.com/v1/datalab/search\";\n",
        "\n",
        "\n",
        "\n",
        "\n",
        "\n",
        "def getTrandData(body, j, sheetname) : \n",
        "\n",
        "    request = urllib.request.Request(url)\n",
        "    request.add_header(\"X-Naver-Client-Id\",client_id)\n",
        "    request.add_header(\"X-Naver-Client-Secret\",client_secret)\n",
        "    request.add_header(\"Content-Type\",\"application/json\")\n",
        "    response = urllib.request.urlopen(request, data=body.encode(\"utf-8\"))\n",
        "    json_obj = json.loads(response.read().decode('utf-8'))\n",
        "\n",
        "\n",
        "    df1 = pd.DataFrame(json_obj['results'][0]['data']); df1.columns = ['기간', '1']; df1.set_index('기간')\n",
        "    df2 = pd.DataFrame(json_obj['results'][1]['data']); df2.columns = ['기간', '2']; df2.set_index('기간')\n",
        "    df3 = pd.DataFrame(json_obj['results'][2]['data']); df3.columns = ['기간', '3']; df3.set_index('기간')\n",
        "    df4 = pd.DataFrame(json_obj['results'][3]['data']); df4.columns = ['기간', '4']; df4.set_index('기간')\n",
        "    df5 = pd.DataFrame(json_obj['results'][4]['data']); df5.columns = ['기간', '5']; df5.set_index('기간')\n",
        "    dfs = [df1, df2, df3, df4, df5]\n",
        "\n",
        "\n",
        "\n",
        "    df_merge = reduce(lambda left, right: pd.merge(left, right, on='기간', how='outer'), dfs)\n",
        " #   df_merge.to_csv('/content/gdrive/My Drive/Colab Notebooks/test_colab/'+name+'.csv')\n",
        "\n",
        "\n",
        "    worksheet2 = gc.open(sheetname).worksheet(j)\n",
        "\n",
        "    set_with_dataframe(worksheet2, df_merge) \n",
        "    \n",
        "\n",
        "\n",
        "\n",
        "i = 0\n",
        "\n",
        "for i in range(0,1) : \n",
        "    if i == 0 :\n",
        "        body = \"{\\\"startDate\\\":\\\"2016-01-01\\\",\\\"endDate\\\":\\\"\"+yesterday+\"\\\",\\\"timeUnit\\\":\\\"date\\\",\\\"keywordGroups\\\":[{\\\"groupName\\\":\\\"1\\\",\\\"keywords\\\":[\\\"검색키워드그룹1\\\",\\\"검색키워드그룹1\\\",\\\"검색키워드그룹1\\\"]},{\\\"groupName\\\":\\\"2\\\",\\\"keywords\\\":[\\\"검색키워드그룹2\\\",\\\"검색키워드그룹2\\\",\\\"검색키워드그룹2\\\"]},{\\\"groupName\\\":\\\"3\\\",\\\"keywords\\\":[\\\"검색키워드그룹3\\\",\\\"검색키워드그룹3\\\",\\\"검색키워드그룹3\\\"]},{\\\"groupName\\\":\\\"4\\\",\\\"keywords\\\":[\\\"검색키워드그룹4\\\",\\\"검색키워드그룹4\\\",\\\"검색키워드그룹4\\\"]},{\\\"groupName\\\":\\\"5\\\",\\\"keywords\\\":[\\\"검색키워드그룹5\\\",\\\"검색키워드그룹5\\\",\\\"검색키워드그룹5\\\"]}],\\\"device\\\":\\\"pc\\\",\\\"ages\\\":[\\\"2\\\",\\\"3\\\",\\\"4\\\",\\\"5\\\",\\\"6\\\",\\\"7\\\",\\\"8\\\",\\\"9\\\",\\\"10\\\"]}\";\n",
        "        j = '시트명'\n",
        "        name = '시트_테이블명'\n",
        "        getTrandData(body, j, name)\n",
        "    elif i == 1 :\n",
        "        body = \"{\\\"startDate\\\":\\\"2016-01-01\\\",\\\"endDate\\\":\\\"\"+yesterday+\"\\\",\\\"timeUnit\\\":\\\"date\\\",\\\"keywordGroups\\\":[{\\\"groupName\\\":\\\"1\\\",\\\"keywords\\\":[\\\"검색키워드그룹1\\\",\\\"검색키워드그룹1\\\",\\\"검색키워드그룹1\\\"]},{\\\"groupName\\\":\\\"2\\\",\\\"keywords\\\":[\\\"검색키워드그룹2\\\",\\\"검색키워드그룹2\\\",\\\"검색키워드그룹2\\\"]},{\\\"groupName\\\":\\\"3\\\",\\\"keywords\\\":[\\\"검색키워드그룹3\\\",\\\"검색키워드그룹3\\\",\\\"검색키워드그룹3\\\"]},{\\\"groupName\\\":\\\"4\\\",\\\"keywords\\\":[\\\"검색키워드그룹4\\\",\\\"검색키워드그룹4\\\",\\\"검색키워드그룹4\\\"]},{\\\"groupName\\\":\\\"5\\\",\\\"keywords\\\":[\\\"검색키워드그룹5\\\",\\\"검색키워드그룹5\\\",\\\"검색키워드그룹5\\\"]}],\\\"device\\\":\\\"mo\\\",\\\"ages\\\":[\\\"2\\\",\\\"3\\\",\\\"4\\\",\\\"5\\\",\\\"6\\\",\\\"7\\\",\\\"8\\\",\\\"9\\\",\\\"10\\\"]}\";\n",
        "        j = '시트명'\n",
        "        name = '시트_테이블명'\n",
        "        getTrandData(body, j, name)\n",
        "\n",
        "    i = i + 1\n"
      ],
      "execution_count": null,
      "outputs": []
    }
  ]
}