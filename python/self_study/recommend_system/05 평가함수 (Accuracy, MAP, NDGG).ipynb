{
 "cells": [
  {
   "cell_type": "markdown",
   "metadata": {},
   "source": [
    "## 05 평가함수"
   ]
  },
  {
   "cell_type": "markdown",
   "metadata": {},
   "source": [
    "### Accuracy\n",
    "- 내가 추천한 영화를 고객이 보았는가? 보지 않았는가?\n",
    "- 내가 추천한 영화를 많이 볼수록, 추천하지 않은 영화를 보지 않을수록 정확도는 상승\n",
    "- 하지만, 추천하지 않은 영화의 수는 추천한 영화의 수에 비해 많기 때문에 편향된 결과를 얻을 수 있다\n",
    "    - 따라서, 추천한 영화 중 본 영화로만 평가를 매겨야 한다.\n",
    "    - 상위 n 개의 상품만 추천한다고 했을 때 어느정도의 정확도를 얻는지 판단해야 한다."
   ]
  },
  {
   "cell_type": "markdown",
   "metadata": {},
   "source": [
    "### MAP\n",
    "- Recommendations : 추천을 했는데 맞은 경우1, 틀리면 0\n",
    "- AP : Precision @k's 를 평균낸 값(추천한 k개의 영화의 Precision을 평균)\n",
    "    - Precision = True Positivie / Actual Results or True Positive / (True Positive + False Positive)\n",
    "- MAP@4 : 4명의 사용자의 AP를 평균낸 값(Precision을평균낸 AP를 4명의 사용자에 대해서 평균)\n",
    "\n",
    "- 추천의 순서에 따라서 값이 차가 난다.\n",
    "- 또한 상위 K개의 추천에 대해서만 평가하기 때문에 K를 바꿔가면서 상위 몇개를 추천하는게 좋을지 결정 가능"
   ]
  },
  {
   "cell_type": "markdown",
   "metadata": {},
   "source": [
    "### NDCG\n",
    "- NDCG (Normalized Discounted Cumulative Gain) : ranking quality measure, 검색 알고리즘에서 성과를 측정하는 평가 매트릭스\n",
    "    - DCG는 추천하는 수에 따라 결과가 달라지므로, 상한/하한이 적절한 점수가 필요하다\n",
    "    - 따라서 모든 추천 점수를 평균하여 최종 점수를 보고 정규화 할 필요가 있다.\n",
    "    \n",
    "\n",
    "- CG (Cumulative Gain)\n",
    "    - 중요도에 따라 추천해주었을 때, 추천에 대한 긍정/부정 피드백을 더한 값\n",
    "- DCG (Discounted Cumulative Gain)\n",
    "    - 중요도에 따라 추천해주었을 때, 추천된 순서에 따라 가중치를 부여해 긍정/부정 피드백을 더한 값(초반일수록 가중치를 받음)"
   ]
  }
 ],
 "metadata": {
  "kernelspec": {
   "display_name": "Python 3",
   "language": "python",
   "name": "python3"
  },
  "language_info": {
   "codemirror_mode": {
    "name": "ipython",
    "version": 3
   },
   "file_extension": ".py",
   "mimetype": "text/x-python",
   "name": "python",
   "nbconvert_exporter": "python",
   "pygments_lexer": "ipython3",
   "version": "3.8.5"
  }
 },
 "nbformat": 4,
 "nbformat_minor": 4
}
