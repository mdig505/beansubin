{
 "cells": [
  {
   "cell_type": "code",
   "execution_count": 3,
   "id": "32764591",
   "metadata": {},
   "outputs": [
    {
     "name": "stdout",
     "output_type": "stream",
     "text": [
      "CountVectorizer shape :  (7862, 1000)\n"
     ]
    }
   ],
   "source": [
    "from sklearn.datasets import fetch_20newsgroups\n",
    "from sklearn.feature_extraction.text import CountVectorizer\n",
    "from sklearn.decomposition import LatentDirichletAllocation\n",
    "\n",
    "cats = ['rec.motorcycles', 'rec.sport.baseball', 'comp.graphics', 'comp.windows.x','talk.politics.mideast',\n",
    "        'soc.religion.christian','sci.electronics','sci.med']\n",
    "\n",
    "news_df = fetch_20newsgroups(subset = 'all', remove = ('header','footer','quotes'), categories=cats, random_state = 0)\n",
    "\n",
    "#LDA는 COUNTVECT만 가능\n",
    "count_vect = CountVectorizer(max_df = 0.95, max_features = 1000, min_df = 2, stop_words = 'english', ngram_range = (1,2))\n",
    "\n",
    "feat_vect = count_vect.fit_transform(news_df.data)\n",
    "print('CountVectorizer shape : ', feat_vect.shape)"
   ]
  },
  {
   "cell_type": "code",
   "execution_count": 5,
   "id": "c73f0246",
   "metadata": {},
   "outputs": [
    {
     "data": {
      "text/plain": [
       "LatentDirichletAllocation(n_components=8, random_state=0)"
      ]
     },
     "execution_count": 5,
     "metadata": {},
     "output_type": "execute_result"
    }
   ],
   "source": [
    "lda = LatentDirichletAllocation(n_components=8, random_state = 0)\n",
    "lda.fit(feat_vect)"
   ]
  },
  {
   "cell_type": "code",
   "execution_count": 8,
   "id": "ce34eb89",
   "metadata": {},
   "outputs": [
    {
     "name": "stdout",
     "output_type": "stream",
     "text": [
      "(8, 1000)\n"
     ]
    },
    {
     "data": {
      "text/plain": [
       "array([[3.13483523e+02, 1.80694863e+02, 4.03990113e+01, ...,\n",
       "        8.44355322e+01, 1.25001932e-01, 1.25001646e-01],\n",
       "       [9.44043581e+01, 1.44080013e+01, 1.30242052e+02, ...,\n",
       "        7.82561496e+01, 1.25016648e-01, 1.25014688e-01],\n",
       "       [4.44766267e+00, 5.88923250e-01, 1.25170282e-01, ...,\n",
       "        4.02190900e+01, 1.25003957e-01, 1.25003865e-01],\n",
       "       ...,\n",
       "       [9.40699411e+00, 4.55386620e+01, 1.25194439e-01, ...,\n",
       "        3.24877033e+01, 1.25029032e-01, 1.25000579e-01],\n",
       "       [2.10365037e+01, 7.02607423e+00, 1.35839302e+01, ...,\n",
       "        2.20584629e+01, 1.25014981e-01, 1.25001025e-01],\n",
       "       [1.25057672e-01, 1.25115975e-01, 1.25009770e-01, ...,\n",
       "        4.22456002e+01, 1.25001380e-01, 1.25001457e-01]])"
      ]
     },
     "execution_count": 8,
     "metadata": {},
     "output_type": "execute_result"
    }
   ],
   "source": [
    "print(lda.components_.shape)\n",
    "lda.components_"
   ]
  },
  {
   "cell_type": "code",
   "execution_count": 9,
   "id": "65337c14",
   "metadata": {},
   "outputs": [
    {
     "name": "stdout",
     "output_type": "stream",
     "text": [
      "topic # 0\n",
      "edu medical 10 health information 1993 research pitt disease cancer pitt edu 00 new patients 12\n",
      "topic # 1\n",
      "said people know don didn just went like say time did going came told ac\n",
      "topic # 2\n",
      "don use just like good time make know way think does used organization people ve\n",
      "topic # 3\n",
      "file edu image graphics program use available window mit software windows ftp version jpeg server\n",
      "topic # 4\n",
      "armenian israel turkish jews armenians people israeli jewish armenia government turks world war turkey muslim\n",
      "topic # 5\n",
      "com organization don like just bike think netcom good ibm hp time com organization game ve\n",
      "topic # 6\n",
      "edu organization posting university host nntp nntp posting posting host organization university cs reply distribution ca thanks know\n",
      "topic # 7\n",
      "god people jesus church believe christ christian think organization christians does say edu bible sin\n"
     ]
    }
   ],
   "source": [
    "def display_topics(model, feature_names, no_top_words):\n",
    "    for topic_index, topic in enumerate(model.components_):\n",
    "        print('topic #', topic_index)\n",
    "        \n",
    "        topic_word_indexes = topic.argsort()[::-1]\n",
    "        top_indexes = topic_word_indexes[:no_top_words]\n",
    "        \n",
    "        feature_concat =  ' '.join([feature_names[i] for i in top_indexes])\n",
    "        print(feature_concat)\n",
    "        \n",
    "feature_names = count_vect.get_feature_names()\n",
    "display_topics(lda, feature_names, 15)"
   ]
  }
 ],
 "metadata": {
  "kernelspec": {
   "display_name": "Python 3",
   "language": "python",
   "name": "python3"
  },
  "language_info": {
   "codemirror_mode": {
    "name": "ipython",
    "version": 3
   },
   "file_extension": ".py",
   "mimetype": "text/x-python",
   "name": "python",
   "nbconvert_exporter": "python",
   "pygments_lexer": "ipython3",
   "version": "3.8.8"
  }
 },
 "nbformat": 4,
 "nbformat_minor": 5
}
